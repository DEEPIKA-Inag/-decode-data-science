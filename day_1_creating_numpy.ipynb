{
 "cells": [
  {
   "cell_type": "code",
   "execution_count": 1,
   "id": "e9ec62c4-1ae1-4316-8b25-130eb9c6d739",
   "metadata": {},
   "outputs": [],
   "source": [
    "import numpy as np\n"
   ]
  },
  {
   "cell_type": "code",
   "execution_count": 5,
   "id": "a496cf87-f39e-4249-a09b-e609945cca98",
   "metadata": {},
   "outputs": [
    {
     "name": "stdout",
     "output_type": "stream",
     "text": [
      "Requirement already satisfied: numpy in e:\\conda\\lib\\site-packages (1.26.4)\n"
     ]
    }
   ],
   "source": [
    "!pip install numpy"
   ]
  },
  {
   "cell_type": "code",
   "execution_count": 7,
   "id": "65feaf46-5768-4b5c-95c4-51ad0d564e1b",
   "metadata": {},
   "outputs": [],
   "source": [
    "arr = np.array([1,2,3]) #creating 1D numpy array"
   ]
  },
  {
   "cell_type": "code",
   "execution_count": 9,
   "id": "ebab7762-c27d-4aca-96f2-c467b7704a1e",
   "metadata": {},
   "outputs": [
    {
     "data": {
      "text/plain": [
       "array([1, 2, 3])"
      ]
     },
     "execution_count": 9,
     "metadata": {},
     "output_type": "execute_result"
    }
   ],
   "source": [
    "arr"
   ]
  },
  {
   "cell_type": "markdown",
   "id": "3de21aa2",
   "metadata": {},
   "source": []
  },
  {
   "cell_type": "code",
   "execution_count": 11,
   "id": "250b379b-97d4-40e4-817c-fd2f0a826416",
   "metadata": {},
   "outputs": [
    {
     "data": {
      "text/plain": [
       "array([[0., 0., 0., 0.],\n",
       "       [0., 0., 0., 0.],\n",
       "       [0., 0., 0., 0.]])"
      ]
     },
     "execution_count": 11,
     "metadata": {},
     "output_type": "execute_result"
    }
   ],
   "source": [
    "np.zeros((3,4)) "
   ]
  },
  {
   "cell_type": "code",
   "execution_count": 15,
   "id": "042780e5-e3de-4ba4-9f66-7e813ac4046f",
   "metadata": {},
   "outputs": [
    {
     "data": {
      "text/plain": [
       "array([[1., 1., 1., 1., 1., 1., 1., 1.],\n",
       "       [1., 1., 1., 1., 1., 1., 1., 1.]])"
      ]
     },
     "execution_count": 15,
     "metadata": {},
     "output_type": "execute_result"
    }
   ],
   "source": [
    "np.ones((2,8))"
   ]
  },
  {
   "cell_type": "code",
   "execution_count": 23,
   "id": "5df87f6c-722f-47bd-acef-2652cb4a876d",
   "metadata": {},
   "outputs": [
    {
     "data": {
      "text/plain": [
       "array([[9, 9, 9, 9, 9, 9],\n",
       "       [9, 9, 9, 9, 9, 9],\n",
       "       [9, 9, 9, 9, 9, 9],\n",
       "       [9, 9, 9, 9, 9, 9]])"
      ]
     },
     "execution_count": 23,
     "metadata": {},
     "output_type": "execute_result"
    }
   ],
   "source": [
    "np.full((4,6), 9)"
   ]
  },
  {
   "cell_type": "code",
   "execution_count": 27,
   "id": "7bef6241-d38a-40a7-8a3a-0a61fb67ebe2",
   "metadata": {},
   "outputs": [
    {
     "data": {
      "text/plain": [
       "array([[9, 9, 9, ..., 9, 9, 9],\n",
       "       [9, 9, 9, ..., 9, 9, 9],\n",
       "       [9, 9, 9, ..., 9, 9, 9]])"
      ]
     },
     "execution_count": 27,
     "metadata": {},
     "output_type": "execute_result"
    }
   ],
   "source": [
    "np.full((3,1000),9)"
   ]
  },
  {
   "cell_type": "code",
   "execution_count": 29,
   "id": "43dc0e4e-3908-4d89-b002-78e3db4beaa9",
   "metadata": {},
   "outputs": [
    {
     "data": {
      "text/plain": [
       "array([[1., 0., 0.],\n",
       "       [0., 1., 0.],\n",
       "       [0., 0., 1.]])"
      ]
     },
     "execution_count": 29,
     "metadata": {},
     "output_type": "execute_result"
    }
   ],
   "source": [
    "np.eye(3) "
   ]
  },
  {
   "cell_type": "code",
   "execution_count": 35,
   "id": "6f4bdd5d-79d8-49f2-bdf3-0fd26d67f468",
   "metadata": {},
   "outputs": [
    {
     "data": {
      "text/plain": [
       "array([  1, 101, 201, 301, 401])"
      ]
     },
     "execution_count": 35,
     "metadata": {},
     "output_type": "execute_result"
    }
   ],
   "source": [
    "np.arange(1,500,100)"
   ]
  },
  {
   "cell_type": "code",
   "execution_count": 39,
   "id": "6103d361-a972-44f5-abaa-8656dc13e8ba",
   "metadata": {},
   "outputs": [
    {
     "data": {
      "text/plain": [
       "array([  1.  ,  25.75,  50.5 ,  75.25, 100.  ])"
      ]
     },
     "execution_count": 39,
     "metadata": {},
     "output_type": "execute_result"
    }
   ],
   "source": [
    "np.linspace(1,100,5)"
   ]
  },
  {
   "cell_type": "code",
   "execution_count": 49,
   "id": "b30c1e1d-8b31-4dc9-b351-e1d8af23c395",
   "metadata": {},
   "outputs": [],
   "source": [
    "marray = np.array([[2,3,4],[2,3,5],[4,5,7],[2,4,5]])"
   ]
  },
  {
   "cell_type": "code",
   "execution_count": 51,
   "id": "61502316-7549-4bf1-b7a9-a01e57465762",
   "metadata": {},
   "outputs": [
    {
     "data": {
      "text/plain": [
       "array([[2, 3, 4],\n",
       "       [2, 3, 5],\n",
       "       [4, 5, 7],\n",
       "       [2, 4, 5]])"
      ]
     },
     "execution_count": 51,
     "metadata": {},
     "output_type": "execute_result"
    }
   ],
   "source": [
    "marray"
   ]
  },
  {
   "cell_type": "code",
   "execution_count": 55,
   "id": "502d9856-89bd-4f08-8ec1-cdf732aa1f98",
   "metadata": {},
   "outputs": [
    {
     "data": {
      "text/plain": [
       "numpy.ndarray"
      ]
     },
     "execution_count": 55,
     "metadata": {},
     "output_type": "execute_result"
    }
   ],
   "source": [
    "type(marray)"
   ]
  },
  {
   "cell_type": "code",
   "execution_count": 57,
   "id": "12868610-e582-4956-b295-c16b64d6190a",
   "metadata": {},
   "outputs": [
    {
     "data": {
      "text/plain": [
       "(4, 3)"
      ]
     },
     "execution_count": 57,
     "metadata": {},
     "output_type": "execute_result"
    }
   ],
   "source": [
    "np.shape(marray)"
   ]
  },
  {
   "cell_type": "code",
   "execution_count": 59,
   "id": "38e2b3b4-a372-418f-a9a0-a9f5be599631",
   "metadata": {},
   "outputs": [
    {
     "data": {
      "text/plain": [
       "12"
      ]
     },
     "execution_count": 59,
     "metadata": {},
     "output_type": "execute_result"
    }
   ],
   "source": [
    "marray.size"
   ]
  },
  {
   "cell_type": "code",
   "execution_count": 61,
   "id": "22088ad9-395b-4684-900f-6141ccecbbcc",
   "metadata": {},
   "outputs": [
    {
     "data": {
      "text/plain": [
       "2"
      ]
     },
     "execution_count": 61,
     "metadata": {},
     "output_type": "execute_result"
    }
   ],
   "source": [
    "marray.ndim"
   ]
  },
  {
   "cell_type": "code",
   "execution_count": 63,
   "id": "3200aa4c-4041-46f3-abc9-87bff21b575b",
   "metadata": {},
   "outputs": [
    {
     "data": {
      "text/plain": [
       "dtype('int32')"
      ]
     },
     "execution_count": 63,
     "metadata": {},
     "output_type": "execute_result"
    }
   ],
   "source": [
    "marray.dtype"
   ]
  },
  {
   "cell_type": "code",
   "execution_count": 71,
   "id": "c38b90ad-8818-4d2a-9abb-b4bec8bc0af3",
   "metadata": {},
   "outputs": [],
   "source": [
    "reshaped = marray.reshape((6,2))"
   ]
  },
  {
   "cell_type": "code",
   "execution_count": 73,
   "id": "4ba262a3-f7fb-4837-9166-17f24fef70e8",
   "metadata": {},
   "outputs": [
    {
     "data": {
      "text/plain": [
       "array([[2, 3],\n",
       "       [4, 2],\n",
       "       [3, 5],\n",
       "       [4, 5],\n",
       "       [7, 2],\n",
       "       [4, 5]])"
      ]
     },
     "execution_count": 73,
     "metadata": {},
     "output_type": "execute_result"
    }
   ],
   "source": [
    "reshaped"
   ]
  },
  {
   "cell_type": "code",
   "execution_count": 79,
   "id": "673de5f5-437d-48a3-9c6f-96a5cff36548",
   "metadata": {},
   "outputs": [],
   "source": [
    "flat_array = marray.flatten()"
   ]
  },
  {
   "cell_type": "code",
   "execution_count": 81,
   "id": "beeaa6a6-e5b7-4254-87c1-891295b8b43d",
   "metadata": {},
   "outputs": [
    {
     "data": {
      "text/plain": [
       "array([2, 3, 4, 2, 3, 5, 4, 5, 7, 2, 4, 5])"
      ]
     },
     "execution_count": 81,
     "metadata": {},
     "output_type": "execute_result"
    }
   ],
   "source": [
    "flat_array"
   ]
  }
 ],
 "metadata": {
  "kernelspec": {
   "display_name": "Python [conda env:base] *",
   "language": "python",
   "name": "conda-base-py"
  },
  "language_info": {
   "codemirror_mode": {
    "name": "ipython",
    "version": 3
   },
   "file_extension": ".py",
   "mimetype": "text/x-python",
   "name": "python",
   "nbconvert_exporter": "python",
   "pygments_lexer": "ipython3",
   "version": "3.12.7"
  }
 },
 "nbformat": 4,
 "nbformat_minor": 5
}
