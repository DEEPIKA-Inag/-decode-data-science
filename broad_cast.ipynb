{
 "cells": [
  {
   "cell_type": "code",
   "execution_count": 1,
   "id": "b2521a7d-c8df-442d-83a0-6b093f210f6e",
   "metadata": {},
   "outputs": [],
   "source": [
    "import numpy as np"
   ]
  },
  {
   "cell_type": "code",
   "execution_count": 3,
   "id": "46e08f77-389a-4256-851b-c246c0f3170b",
   "metadata": {},
   "outputs": [],
   "source": [
    "arr = np.array([1,2,3,4])"
   ]
  },
  {
   "cell_type": "code",
   "execution_count": 7,
   "id": "83de30be-2387-4fa5-87c8-6c38b64ded3b",
   "metadata": {},
   "outputs": [
    {
     "data": {
      "text/plain": [
       "array([11, 12, 13, 14])"
      ]
     },
     "execution_count": 7,
     "metadata": {},
     "output_type": "execute_result"
    }
   ],
   "source": [
    "arr+10 #broadcasting  : 10 is added to all the element "
   ]
  },
  {
   "cell_type": "code",
   "execution_count": 19,
   "id": "175605c8-de41-4741-be47-9f47682416f0",
   "metadata": {},
   "outputs": [],
   "source": [
    "arr2 =  np.array([10,2,4,3]) # broadcasting a one d array"
   ]
  },
  {
   "cell_type": "code",
   "execution_count": 21,
   "id": "0a22ae1e-ae57-4a31-96af-00ce747a640d",
   "metadata": {},
   "outputs": [
    {
     "data": {
      "text/plain": [
       "array([11,  4,  7,  7])"
      ]
     },
     "execution_count": 21,
     "metadata": {},
     "output_type": "execute_result"
    }
   ],
   "source": [
    "arr + arr2"
   ]
  },
  {
   "cell_type": "code",
   "execution_count": 34,
   "id": "b670c86d-2068-4ce4-9b2e-391e2d53d12a",
   "metadata": {},
   "outputs": [],
   "source": [
    "arr3 = np.array([[10,2,3,11] , [3,4,5,6]])  #broadcasting of 2d array"
   ]
  },
  {
   "cell_type": "code",
   "execution_count": 36,
   "id": "4940712e-082b-4ce8-954c-a7b82f67a8a5",
   "metadata": {},
   "outputs": [
    {
     "data": {
      "text/plain": [
       "array([[10,  2,  3, 11],\n",
       "       [ 3,  4,  5,  6]])"
      ]
     },
     "execution_count": 36,
     "metadata": {},
     "output_type": "execute_result"
    }
   ],
   "source": [
    "arr3"
   ]
  },
  {
   "cell_type": "code",
   "execution_count": 38,
   "id": "5f9a6490-0b0b-4d08-ad79-625232b0698a",
   "metadata": {},
   "outputs": [
    {
     "data": {
      "text/plain": [
       "array([[20,  4,  7, 14],\n",
       "       [13,  6,  9,  9]])"
      ]
     },
     "execution_count": 38,
     "metadata": {},
     "output_type": "execute_result"
    }
   ],
   "source": [
    "arr3 +arr2"
   ]
  },
  {
   "cell_type": "code",
   "execution_count": null,
   "id": "aae61ec2-d9f3-49b3-9bbc-44f9e59a0f0a",
   "metadata": {},
   "outputs": [],
   "source": []
  }
 ],
 "metadata": {
  "kernelspec": {
   "display_name": "Python [conda env:base] *",
   "language": "python",
   "name": "conda-base-py"
  },
  "language_info": {
   "codemirror_mode": {
    "name": "ipython",
    "version": 3
   },
   "file_extension": ".py",
   "mimetype": "text/x-python",
   "name": "python",
   "nbconvert_exporter": "python",
   "pygments_lexer": "ipython3",
   "version": "3.12.7"
  }
 },
 "nbformat": 4,
 "nbformat_minor": 5
}
