{
 "cells": [
  {
   "cell_type": "code",
   "execution_count": 282,
   "id": "e30b6371-c580-48b8-86fc-962246325cef",
   "metadata": {},
   "outputs": [],
   "source": [
    "import pandas as pd "
   ]
  },
  {
   "cell_type": "code",
   "execution_count": 284,
   "id": "196a8a46-221b-4917-b296-784484178330",
   "metadata": {},
   "outputs": [
    {
     "data": {
      "text/html": [
       "<div>\n",
       "<style scoped>\n",
       "    .dataframe tbody tr th:only-of-type {\n",
       "        vertical-align: middle;\n",
       "    }\n",
       "\n",
       "    .dataframe tbody tr th {\n",
       "        vertical-align: top;\n",
       "    }\n",
       "\n",
       "    .dataframe thead th {\n",
       "        text-align: right;\n",
       "    }\n",
       "</style>\n",
       "<table border=\"1\" class=\"dataframe\">\n",
       "  <thead>\n",
       "    <tr style=\"text-align: right;\">\n",
       "      <th></th>\n",
       "      <th>Category</th>\n",
       "      <th>Message</th>\n",
       "    </tr>\n",
       "  </thead>\n",
       "  <tbody>\n",
       "    <tr>\n",
       "      <th>0</th>\n",
       "      <td>ham</td>\n",
       "      <td>Go until jurong point, crazy.. Available only ...</td>\n",
       "    </tr>\n",
       "    <tr>\n",
       "      <th>1</th>\n",
       "      <td>ham</td>\n",
       "      <td>Ok lar... Joking wif u oni...</td>\n",
       "    </tr>\n",
       "    <tr>\n",
       "      <th>2</th>\n",
       "      <td>spam</td>\n",
       "      <td>Free entry in 2 a wkly comp to win FA Cup fina...</td>\n",
       "    </tr>\n",
       "    <tr>\n",
       "      <th>3</th>\n",
       "      <td>ham</td>\n",
       "      <td>U dun say so early hor... U c already then say...</td>\n",
       "    </tr>\n",
       "    <tr>\n",
       "      <th>4</th>\n",
       "      <td>ham</td>\n",
       "      <td>Nah I don't think he goes to usf, he lives aro...</td>\n",
       "    </tr>\n",
       "    <tr>\n",
       "      <th>...</th>\n",
       "      <td>...</td>\n",
       "      <td>...</td>\n",
       "    </tr>\n",
       "    <tr>\n",
       "      <th>5568</th>\n",
       "      <td>ham</td>\n",
       "      <td>Will ü b going to esplanade fr home?</td>\n",
       "    </tr>\n",
       "    <tr>\n",
       "      <th>5569</th>\n",
       "      <td>ham</td>\n",
       "      <td>Pity, * was in mood for that. So...any other s...</td>\n",
       "    </tr>\n",
       "    <tr>\n",
       "      <th>5570</th>\n",
       "      <td>ham</td>\n",
       "      <td>The guy did some bitching but I acted like i'd...</td>\n",
       "    </tr>\n",
       "    <tr>\n",
       "      <th>5571</th>\n",
       "      <td>ham</td>\n",
       "      <td>Rofl. Its true to its name</td>\n",
       "    </tr>\n",
       "    <tr>\n",
       "      <th>5572</th>\n",
       "      <td>{\"mode\":\"full\"</td>\n",
       "      <td>isActive:false}</td>\n",
       "    </tr>\n",
       "  </tbody>\n",
       "</table>\n",
       "<p>5573 rows × 2 columns</p>\n",
       "</div>"
      ],
      "text/plain": [
       "            Category                                            Message\n",
       "0                ham  Go until jurong point, crazy.. Available only ...\n",
       "1                ham                      Ok lar... Joking wif u oni...\n",
       "2               spam  Free entry in 2 a wkly comp to win FA Cup fina...\n",
       "3                ham  U dun say so early hor... U c already then say...\n",
       "4                ham  Nah I don't think he goes to usf, he lives aro...\n",
       "...              ...                                                ...\n",
       "5568             ham               Will ü b going to esplanade fr home?\n",
       "5569             ham  Pity, * was in mood for that. So...any other s...\n",
       "5570             ham  The guy did some bitching but I acted like i'd...\n",
       "5571             ham                         Rofl. Its true to its name\n",
       "5572  {\"mode\":\"full\"                                    isActive:false}\n",
       "\n",
       "[5573 rows x 2 columns]"
      ]
     },
     "execution_count": 284,
     "metadata": {},
     "output_type": "execute_result"
    }
   ],
   "source": [
    "data = pd.read_csv(\"email.csv\") # load csv\n",
    "data\n"
   ]
  },
  {
   "cell_type": "markdown",
   "id": "5ba38fb7-e6c0-4b88-b908-628b362e008e",
   "metadata": {},
   "source": [
    "📄 Dataset Overview: email.csv\n",
    "This dataset contains labeled text messages and is used for binary text classification — specifically, to distinguish between spam and ham (non-spam) messages.\n",
    "\n",
    "📋 Columns:\n",
    "label:\n",
    "\n",
    "Type of message\n",
    "\n",
    "'spam' for unwanted or promotional messages\n",
    "\n",
    "'ham' for normal/legitimate messages\n",
    "\n",
    "message:\n",
    "\n",
    "The actual content of the text/email message in plain text\n",
    "\n",
    "🎯 Objective:\n",
    "The goal is to use this dataset to build a machine learning model that can automatically detect whether a new incoming message is spam or not based on its content.\n",
    "\n"
   ]
  },
  {
   "cell_type": "code",
   "execution_count": 287,
   "id": "b3390e60-7a8c-4f79-8d46-bd86ce34d984",
   "metadata": {},
   "outputs": [
    {
     "data": {
      "text/html": [
       "<div>\n",
       "<style scoped>\n",
       "    .dataframe tbody tr th:only-of-type {\n",
       "        vertical-align: middle;\n",
       "    }\n",
       "\n",
       "    .dataframe tbody tr th {\n",
       "        vertical-align: top;\n",
       "    }\n",
       "\n",
       "    .dataframe thead th {\n",
       "        text-align: right;\n",
       "    }\n",
       "</style>\n",
       "<table border=\"1\" class=\"dataframe\">\n",
       "  <thead>\n",
       "    <tr style=\"text-align: right;\">\n",
       "      <th></th>\n",
       "      <th>Category</th>\n",
       "      <th>Message</th>\n",
       "    </tr>\n",
       "  </thead>\n",
       "  <tbody>\n",
       "    <tr>\n",
       "      <th>0</th>\n",
       "      <td>ham</td>\n",
       "      <td>Go until jurong point, crazy.. Available only ...</td>\n",
       "    </tr>\n",
       "    <tr>\n",
       "      <th>1</th>\n",
       "      <td>ham</td>\n",
       "      <td>Ok lar... Joking wif u oni...</td>\n",
       "    </tr>\n",
       "    <tr>\n",
       "      <th>2</th>\n",
       "      <td>spam</td>\n",
       "      <td>Free entry in 2 a wkly comp to win FA Cup fina...</td>\n",
       "    </tr>\n",
       "    <tr>\n",
       "      <th>3</th>\n",
       "      <td>ham</td>\n",
       "      <td>U dun say so early hor... U c already then say...</td>\n",
       "    </tr>\n",
       "    <tr>\n",
       "      <th>4</th>\n",
       "      <td>ham</td>\n",
       "      <td>Nah I don't think he goes to usf, he lives aro...</td>\n",
       "    </tr>\n",
       "  </tbody>\n",
       "</table>\n",
       "</div>"
      ],
      "text/plain": [
       "  Category                                            Message\n",
       "0      ham  Go until jurong point, crazy.. Available only ...\n",
       "1      ham                      Ok lar... Joking wif u oni...\n",
       "2     spam  Free entry in 2 a wkly comp to win FA Cup fina...\n",
       "3      ham  U dun say so early hor... U c already then say...\n",
       "4      ham  Nah I don't think he goes to usf, he lives aro..."
      ]
     },
     "execution_count": 287,
     "metadata": {},
     "output_type": "execute_result"
    }
   ],
   "source": [
    "data.head()"
   ]
  },
  {
   "cell_type": "code",
   "execution_count": 289,
   "id": "3e56f071-e9ed-4bfb-9466-08fbd63eae77",
   "metadata": {},
   "outputs": [
    {
     "data": {
      "text/plain": [
       "Category    0\n",
       "Message     0\n",
       "dtype: int64"
      ]
     },
     "execution_count": 289,
     "metadata": {},
     "output_type": "execute_result"
    }
   ],
   "source": [
    "data.isnull().sum()"
   ]
  },
  {
   "cell_type": "code",
   "execution_count": 291,
   "id": "927e92a3-6694-4db0-a86e-59354e2bf04f",
   "metadata": {},
   "outputs": [
    {
     "data": {
      "text/plain": [
       "['Category', 'Message']"
      ]
     },
     "execution_count": 291,
     "metadata": {},
     "output_type": "execute_result"
    }
   ],
   "source": [
    "data.columns.tolist()"
   ]
  },
  {
   "cell_type": "code",
   "execution_count": 293,
   "id": "61c47fc0-96dd-46bb-aad3-3e38cd810e4c",
   "metadata": {},
   "outputs": [],
   "source": [
    "data.columns = data.columns.str.strip()\n"
   ]
  },
  {
   "cell_type": "code",
   "execution_count": 295,
   "id": "172c3466-2ef2-4a4f-afe1-17b8f629639e",
   "metadata": {},
   "outputs": [
    {
     "name": "stdout",
     "output_type": "stream",
     "text": [
      "['ham' 'spam' '{\"mode\":\"full\"']\n"
     ]
    }
   ],
   "source": [
    "print(data['Category'].unique())\n"
   ]
  },
  {
   "cell_type": "code",
   "execution_count": 297,
   "id": "1d831ee1-be92-4ecf-abf4-ff0b1d12dcc0",
   "metadata": {},
   "outputs": [],
   "source": [
    "#  Strip spaces and convert to lowercase\n",
    "data['Category'] = data['Category'].astype(str).str.strip().str.lower()\n",
    "\n",
    "# Step 2: Keep only valid labels\n",
    "data = data[data['Category'].isin(['ham', 'spam'])]"
   ]
  },
  {
   "cell_type": "code",
   "execution_count": 299,
   "id": "9e17976c-2086-4776-825c-5f3869b8bdba",
   "metadata": {},
   "outputs": [
    {
     "name": "stderr",
     "output_type": "stream",
     "text": [
      "C:\\Users\\svjic\\AppData\\Local\\Temp\\ipykernel_15272\\389611904.py:2: SettingWithCopyWarning: \n",
      "A value is trying to be set on a copy of a slice from a DataFrame.\n",
      "Try using .loc[row_indexer,col_indexer] = value instead\n",
      "\n",
      "See the caveats in the documentation: https://pandas.pydata.org/pandas-docs/stable/user_guide/indexing.html#returning-a-view-versus-a-copy\n",
      "  data[\"Category\"]= data[\"Category\"].map({\"ham\":0,\"spam\":1})\n"
     ]
    }
   ],
   "source": [
    "#convert labels to binary\n",
    "data[\"Category\"]= data[\"Category\"].map({\"ham\":0,\"spam\":1})\n",
    "X = data['Message'] # feature\n",
    "y = data['Category']\n"
   ]
  },
  {
   "cell_type": "code",
   "execution_count": 301,
   "id": "721e0b59-c088-4bd6-ac42-0b1bcd71dafd",
   "metadata": {},
   "outputs": [
    {
     "name": "stdout",
     "output_type": "stream",
     "text": [
      "[0 1]\n"
     ]
    }
   ],
   "source": [
    "print(data['Category'].unique())"
   ]
  },
  {
   "cell_type": "markdown",
   "id": "93499dca-9dd8-4486-9b87-40076c15cc4a",
   "metadata": {},
   "source": [
    "<h4>Train-Test Split</h4>"
   ]
  },
  {
   "cell_type": "code",
   "execution_count": 304,
   "id": "ebb10989-5856-4106-83b7-f02349d6e645",
   "metadata": {},
   "outputs": [],
   "source": [
    "from sklearn.model_selection import train_test_split\n",
    "X_train, X_test, y_train, y_test = train_test_split(X, y, test_size=0.2, random_state=42)\n"
   ]
  },
  {
   "cell_type": "markdown",
   "id": "6dbaca41-27c5-4d10-80a2-d122080ba246",
   "metadata": {},
   "source": [
    "<h4>Text Vectorization (Bag of Words)</h4>"
   ]
  },
  {
   "cell_type": "code",
   "execution_count": 307,
   "id": "dee5c885-6102-4534-b101-ea1be7193575",
   "metadata": {},
   "outputs": [],
   "source": [
    "from sklearn.feature_extraction.text import CountVectorizer\n",
    "vectorizer = CountVectorizer()\n",
    "X_train_vec = vectorizer.fit_transform(X_train)\n",
    "X_test_vec = vectorizer.transform(X_test)"
   ]
  },
  {
   "cell_type": "markdown",
   "id": "a2a3d2f5-88c7-4b6b-99e3-39cfc1bdfc68",
   "metadata": {},
   "source": [
    "<h4>Train Naive Bayes Model</h4>"
   ]
  },
  {
   "cell_type": "code",
   "execution_count": 310,
   "id": "86b39168-0c26-4caa-96ff-1a14a739a8fd",
   "metadata": {},
   "outputs": [
    {
     "name": "stdout",
     "output_type": "stream",
     "text": [
      " Accuracy: 0.9919282511210762\n",
      "Classification Report:\n",
      "               precision    recall  f1-score   support\n",
      "\n",
      "           0       0.99      1.00      1.00       966\n",
      "           1       1.00      0.94      0.97       149\n",
      "\n",
      "    accuracy                           0.99      1115\n",
      "   macro avg       1.00      0.97      0.98      1115\n",
      "weighted avg       0.99      0.99      0.99      1115\n",
      "\n",
      "Confusion Matrix:\n",
      " [[966   0]\n",
      " [  9 140]]\n"
     ]
    }
   ],
   "source": [
    "from sklearn.naive_bayes import MultinomialNB\n",
    "from sklearn.metrics import accuracy_score, classification_report, confusion_matrix\n",
    "# Train Model\n",
    "model = MultinomialNB()\n",
    "model.fit(X_train_vec, y_train)\n",
    "\n",
    "# Predictions\n",
    "y_pred = model.predict(X_test_vec)\n",
    "\n",
    "#  Evaluate\n",
    "print(\" Accuracy:\", accuracy_score(y_test, y_pred))\n",
    "print(\"Classification Report:\\n\", classification_report(y_test, y_pred))\n",
    "print(\"Confusion Matrix:\\n\", confusion_matrix(y_test, y_pred))"
   ]
  },
  {
   "cell_type": "markdown",
   "id": "a76cc836-51a3-416a-960c-4181da98a02c",
   "metadata": {},
   "source": [
    "<h4>Histogram of Spam vs Ham</h4> "
   ]
  },
  {
   "cell_type": "code",
   "execution_count": 313,
   "id": "320d5996-b2c3-467d-9c4d-48baa1a9960e",
   "metadata": {},
   "outputs": [
    {
     "data": {
      "image/png": "[encoded data removed]",
      "text/plain": [
       "<Figure size 600x400 with 1 Axes>"
      ]
     },
     "metadata": {},
     "output_type": "display_data"
    }
   ],
   "source": [
    "import matplotlib.pyplot as plt\n",
    "\n",
    "# Plot histogram\n",
    "plt.figure(figsize=(6, 4))\n",
    "data['Category'].value_counts().sort_index().plot(kind='bar', color=['skyblue', 'salmon'])\n",
    "\n",
    "# Labeling\n",
    "plt.title(' Spam vs Ham Message Distribution')\n",
    "plt.xlabel('Message Type (0 = Ham, 1 = Spam)')\n",
    "plt.ylabel('Number of Messages')\n",
    "plt.xticks([0, 1], ['Ham (0)', 'Spam (1)'], rotation=0)\n",
    "plt.grid(axis='y', linestyle='--', alpha=0.7)\n",
    "\n",
    "# Show plot\n",
    "plt.tight_layout()\n",
    "plt.show()\n"
   ]
  },
  {
   "cell_type": "code",
   "execution_count": null,
   "id": "215bcd74-7313-4b9c-b8fb-e45c5c34fa03",
   "metadata": {},
   "outputs": [],
   "source": []
  },
  {
   "cell_type": "code",
   "execution_count": null,
   "id": "ebf162e1-1ad7-4d6a-a0bf-044448b386b4",
   "metadata": {},
   "outputs": [],
   "source": []
  },
  {
   "cell_type": "code",
   "execution_count": null,
   "id": "ef067fa2-775f-4b41-9f4d-1fb2624223c7",
   "metadata": {},
   "outputs": [],
   "source": []
  }
 ],
 "metadata": {
  "kernelspec": {
   "display_name": "Python [conda env:base] *",
   "language": "python",
   "name": "conda-base-py"
  },
  "language_info": {
   "codemirror_mode": {
    "name": "ipython",
    "version": 3
   },
   "file_extension": ".py",
   "mimetype": "text/x-python",
   "name": "python",
   "nbconvert_exporter": "python",
   "pygments_lexer": "ipython3",
   "version": "3.12.7"
  }
 },
 "nbformat": 4,
 "nbformat_minor": 5
}
