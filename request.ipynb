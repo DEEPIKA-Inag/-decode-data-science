{
 "cells": [
  {
   "cell_type": "code",
   "execution_count": 61,
   "id": "090229a6-a118-47fb-9440-9bcb1567cf3f",
   "metadata": {},
   "outputs": [],
   "source": [
    "import requests"
   ]
  },
  {
   "cell_type": "code",
   "execution_count": 63,
   "id": "9a13eb7d-9f94-48d7-8cb0-b8a7d6c542d5",
   "metadata": {},
   "outputs": [],
   "source": [
    "a = requests.get(\"https://books.toscrape.com/\")"
   ]
  },
  {
   "cell_type": "code",
   "execution_count": 68,
   "id": "5bfca3d8-b6f5-416e-999c-b965c87c900f",
   "metadata": {},
   "outputs": [
    {
     "name": "stdout",
     "output_type": "stream",
     "text": [
      "Downloaded Page 1 Successful\n",
      "Downloaded Page 2 Successful\n",
      "Downloaded Page 3 Successful\n",
      "Downloaded Page 4 Successful\n",
      "Downloaded Page 5 Successful\n",
      "Downloaded Page 6 Successful\n",
      "Downloaded Page 7 Successful\n",
      "Downloaded Page 8 Successful\n",
      "Downloaded Page 9 Successful\n",
      "Downloaded Page 10 Successful\n",
      "Downloaded Page 11 Successful\n",
      "Downloaded Page 12 Successful\n",
      "Downloaded Page 13 Successful\n",
      "Downloaded Page 14 Successful\n",
      "Downloaded Page 15 Successful\n",
      "Downloaded Page 16 Successful\n",
      "Downloaded Page 17 Successful\n",
      "Downloaded Page 18 Successful\n",
      "Downloaded Page 19 Successful\n",
      "Downloaded Page 20 Successful\n",
      "Downloaded Page 21 Successful\n",
      "Downloaded Page 22 Successful\n",
      "Downloaded Page 23 Successful\n",
      "Downloaded Page 24 Successful\n",
      "Downloaded Page 25 Successful\n",
      "Downloaded Page 26 Successful\n",
      "Downloaded Page 27 Successful\n",
      "Downloaded Page 28 Successful\n",
      "Downloaded Page 29 Successful\n",
      "Downloaded Page 30 Successful\n",
      "Downloaded Page 31 Successful\n",
      "Downloaded Page 32 Successful\n",
      "Downloaded Page 33 Successful\n",
      "Downloaded Page 34 Successful\n",
      "Downloaded Page 35 Successful\n",
      "Downloaded Page 36 Successful\n",
      "Downloaded Page 37 Successful\n",
      "Downloaded Page 38 Successful\n",
      "Downloaded Page 39 Successful\n",
      "Downloaded Page 40 Successful\n",
      "Downloaded Page 41 Successful\n",
      "Downloaded Page 42 Successful\n",
      "Downloaded Page 43 Successful\n",
      "Downloaded Page 44 Successful\n",
      "Downloaded Page 45 Successful\n",
      "Downloaded Page 46 Successful\n",
      "Downloaded Page 47 Successful\n",
      "Downloaded Page 48 Successful\n",
      "Downloaded Page 49 Successful\n",
      "Downloaded Page 50 Successful\n"
     ]
    }
   ],
   "source": [
    "for i in range(1,51):\n",
    "   a = requests.get(f\"https://books.toscrape.com/catalogue/page-{i}.html\")\n",
    "   with open(f\"htmls/page{i}.html\",\"w\",encoding=\"utf-8\") as f:\n",
    "       f.write(a.text)\n",
    "       print(f\"Downloaded Page {i} Successful\")\n"
   ]
  }
 ],
 "metadata": {
  "kernelspec": {
   "display_name": "Python [conda env:base] *",
   "language": "python",
   "name": "conda-base-py"
  },
  "language_info": {
   "codemirror_mode": {
    "name": "ipython",
    "version": 3
   },
   "file_extension": ".py",
   "mimetype": "text/x-python",
   "name": "python",
   "nbconvert_exporter": "python",
   "pygments_lexer": "ipython3",
   "version": "3.12.7"
  }
 },
 "nbformat": 4,
 "nbformat_minor": 5
}
