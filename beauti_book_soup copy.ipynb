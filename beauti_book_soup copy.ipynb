{
 "cells": [
  {
   "cell_type": "code",
   "execution_count": 109,
   "id": "20ddc63d-8c99-487c-b779-7197576cb371",
   "metadata": {},
   "outputs": [],
   "source": [
    "from bs4 import BeautifulSoup\n",
    "import pandas as pd\n"
   ]
  },
  {
   "cell_type": "code",
   "execution_count": 111,
   "id": "0b5be04f-4aaf-4891-aec3-cc4f650c73a6",
   "metadata": {},
   "outputs": [],
   "source": [
    "with open(\"htmls_quotes/page1.html\", encoding=\"utf-8\") as f:\n",
    "    data = f.read()\n"
   ]
  },
  {
   "cell_type": "code",
   "execution_count": 113,
   "id": "d5f1a5b8-0cd3-430e-a585-6f2b47c1c9b0",
   "metadata": {},
   "outputs": [],
   "source": [
    "soup = BeautifulSoup(data ,\"html.parser\")"
   ]
  },
  {
   "cell_type": "code",
   "execution_count": 132,
   "id": "beb7eb57-7e8d-4797-a2f2-a1b939506b97",
   "metadata": {},
   "outputs": [],
   "source": [
    "quote_blocks =soup.find_all(\"div\",class_ =\"quote\")\n",
    "data= []\n",
    "for quote in quote_blocks:\n",
    "    author = quote.find(\"small\",class_=\"author\").text.strip()\n",
    "    tag_elements = quote.find_all(\"a\", class_=\"tag\")\n",
    "    quotes_1 = quote.find_all(\"span\",class_=\"text\")\n",
    "    tags = [tag.text.strip() for tag in tag_elements]\n",
    "    data.append({\"Author\": author,\"Tags\": \",\".join(tags),\"Quotes\":quotes_1})\n",
    "    \n"
   ]
  },
  {
   "cell_type": "code",
   "execution_count": 134,
   "id": "1039fd30-d849-4ab3-b69e-c2b25811909a",
   "metadata": {},
   "outputs": [],
   "source": [
    "df= pd.DataFrame(data)"
   ]
  },
  {
   "cell_type": "code",
   "execution_count": 136,
   "id": "e9ce071c-d7e4-4952-8715-25d8bfbdba34",
   "metadata": {},
   "outputs": [
    {
     "data": {
      "text/html": [
       "<div>\n",
       "<style scoped>\n",
       "    .dataframe tbody tr th:only-of-type {\n",
       "        vertical-align: middle;\n",
       "    }\n",
       "\n",
       "    .dataframe tbody tr th {\n",
       "        vertical-align: top;\n",
       "    }\n",
       "\n",
       "    .dataframe thead th {\n",
       "        text-align: right;\n",
       "    }\n",
       "</style>\n",
       "<table border=\"1\" class=\"dataframe\">\n",
       "  <thead>\n",
       "    <tr style=\"text-align: right;\">\n",
       "      <th></th>\n",
       "      <th>Author</th>\n",
       "      <th>Tags</th>\n",
       "      <th>Quotes</th>\n",
       "    </tr>\n",
       "  </thead>\n",
       "  <tbody>\n",
       "    <tr>\n",
       "      <th>0</th>\n",
       "      <td>Albert Einstein</td>\n",
       "      <td>change,deep-thoughts,thinking,world</td>\n",
       "      <td>[[“The world as we have created it is a proces...</td>\n",
       "    </tr>\n",
       "    <tr>\n",
       "      <th>1</th>\n",
       "      <td>J.K. Rowling</td>\n",
       "      <td>abilities,choices</td>\n",
       "      <td>[[“It is our choices, Harry, that show what we...</td>\n",
       "    </tr>\n",
       "    <tr>\n",
       "      <th>2</th>\n",
       "      <td>Albert Einstein</td>\n",
       "      <td>inspirational,life,live,miracle,miracles</td>\n",
       "      <td>[[“There are only two ways to live your life. ...</td>\n",
       "    </tr>\n",
       "    <tr>\n",
       "      <th>3</th>\n",
       "      <td>Jane Austen</td>\n",
       "      <td>aliteracy,books,classic,humor</td>\n",
       "      <td>[[“The person, be it gentleman or lady, who ha...</td>\n",
       "    </tr>\n",
       "    <tr>\n",
       "      <th>4</th>\n",
       "      <td>Marilyn Monroe</td>\n",
       "      <td>be-yourself,inspirational</td>\n",
       "      <td>[[“Imperfection is beauty, madness is genius a...</td>\n",
       "    </tr>\n",
       "    <tr>\n",
       "      <th>5</th>\n",
       "      <td>Albert Einstein</td>\n",
       "      <td>adulthood,success,value</td>\n",
       "      <td>[[“Try not to become a man of success. Rather ...</td>\n",
       "    </tr>\n",
       "    <tr>\n",
       "      <th>6</th>\n",
       "      <td>André Gide</td>\n",
       "      <td>life,love</td>\n",
       "      <td>[[“It is better to be hated for what you are t...</td>\n",
       "    </tr>\n",
       "    <tr>\n",
       "      <th>7</th>\n",
       "      <td>Thomas A. Edison</td>\n",
       "      <td>edison,failure,inspirational,paraphrased</td>\n",
       "      <td>[[“I have not failed. I've just found 10,000 w...</td>\n",
       "    </tr>\n",
       "    <tr>\n",
       "      <th>8</th>\n",
       "      <td>Eleanor Roosevelt</td>\n",
       "      <td>misattributed-eleanor-roosevelt</td>\n",
       "      <td>[[“A woman is like a tea bag; you never know h...</td>\n",
       "    </tr>\n",
       "    <tr>\n",
       "      <th>9</th>\n",
       "      <td>Steve Martin</td>\n",
       "      <td>humor,obvious,simile</td>\n",
       "      <td>[[“A day without sunshine is like, you know, n...</td>\n",
       "    </tr>\n",
       "  </tbody>\n",
       "</table>\n",
       "</div>"
      ],
      "text/plain": [
       "              Author                                      Tags  \\\n",
       "0    Albert Einstein       change,deep-thoughts,thinking,world   \n",
       "1       J.K. Rowling                         abilities,choices   \n",
       "2    Albert Einstein  inspirational,life,live,miracle,miracles   \n",
       "3        Jane Austen             aliteracy,books,classic,humor   \n",
       "4     Marilyn Monroe                 be-yourself,inspirational   \n",
       "5    Albert Einstein                   adulthood,success,value   \n",
       "6         André Gide                                 life,love   \n",
       "7   Thomas A. Edison  edison,failure,inspirational,paraphrased   \n",
       "8  Eleanor Roosevelt           misattributed-eleanor-roosevelt   \n",
       "9       Steve Martin                      humor,obvious,simile   \n",
       "\n",
       "                                              Quotes  \n",
       "0  [[“The world as we have created it is a proces...  \n",
       "1  [[“It is our choices, Harry, that show what we...  \n",
       "2  [[“There are only two ways to live your life. ...  \n",
       "3  [[“The person, be it gentleman or lady, who ha...  \n",
       "4  [[“Imperfection is beauty, madness is genius a...  \n",
       "5  [[“Try not to become a man of success. Rather ...  \n",
       "6  [[“It is better to be hated for what you are t...  \n",
       "7  [[“I have not failed. I've just found 10,000 w...  \n",
       "8  [[“A woman is like a tea bag; you never know h...  \n",
       "9  [[“A day without sunshine is like, you know, n...  "
      ]
     },
     "execution_count": 136,
     "metadata": {},
     "output_type": "execute_result"
    }
   ],
   "source": [
    "df"
   ]
  },
  {
   "cell_type": "code",
   "execution_count": 138,
   "id": "faa027b5-f674-4814-b0f8-1e34dde25a04",
   "metadata": {},
   "outputs": [
    {
     "name": "stdout",
     "output_type": "stream",
     "text": [
      "Data saved to quotes_tags.csv\n"
     ]
    }
   ],
   "source": [
    "df.to_csv(\"quotes_tags.csv\", index=False, encoding=\"utf-8\")\n",
    "print(\"Data saved to quotes_tags.csv\")"
   ]
  },
  {
   "cell_type": "code",
   "execution_count": null,
   "id": "c210f971-07df-4256-a84c-45e64bc5a3de",
   "metadata": {},
   "outputs": [],
   "source": []
  },
  {
   "cell_type": "code",
   "execution_count": null,
   "id": "41bd6550-34ef-45be-927b-eca9e923403b",
   "metadata": {},
   "outputs": [],
   "source": []
  },
  {
   "cell_type": "code",
   "execution_count": null,
   "id": "2a4f5adb-209a-44c8-bf7d-6726fa338c4e",
   "metadata": {},
   "outputs": [],
   "source": []
  }
 ],
 "metadata": {
  "kernelspec": {
   "display_name": "Python [conda env:base] *",
   "language": "python",
   "name": "conda-base-py"
  },
  "language_info": {
   "codemirror_mode": {
    "name": "ipython",
    "version": 3
   },
   "file_extension": ".py",
   "mimetype": "text/x-python",
   "name": "python",
   "nbconvert_exporter": "python",
   "pygments_lexer": "ipython3",
   "version": "3.12.7"
  }
 },
 "nbformat": 4,
 "nbformat_minor": 5
}
