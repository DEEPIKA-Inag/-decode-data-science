{
 "cells": [
  {
   "cell_type": "code",
   "execution_count": 1,
   "id": "4457491d-5dd1-400f-b796-a6c6098c3593",
   "metadata": {},
   "outputs": [],
   "source": [
    "import requests"
   ]
  },
  {
   "cell_type": "code",
   "execution_count": 4,
   "id": "829b9230-ee82-42b4-a968-bfe54bc48362",
   "metadata": {},
   "outputs": [],
   "source": [
    "data = requests.get(\"http://quotes.toscrape.com/\")"
   ]
  },
  {
   "cell_type": "code",
   "execution_count": 31,
   "id": "7401131c-28c7-4416-9e30-0c9b649dd01d",
   "metadata": {},
   "outputs": [
    {
     "name": "stdout",
     "output_type": "stream",
     "text": [
      "Downloaded Page 1 Succes\n",
      "Downloaded Page 2 Succes\n",
      "Downloaded Page 3 Succes\n",
      "Downloaded Page 4 Succes\n",
      "Downloaded Page 5 Succes\n",
      "Downloaded Page 6 Succes\n",
      "Downloaded Page 7 Succes\n",
      "Downloaded Page 8 Succes\n",
      "Downloaded Page 9 Succes\n",
      "Downloaded Page 10 Succes\n",
      "Downloaded Page 11 Succes\n",
      "Downloaded Page 12 Succes\n",
      "Downloaded Page 13 Succes\n",
      "Downloaded Page 14 Succes\n",
      "Downloaded Page 15 Succes\n",
      "Downloaded Page 16 Succes\n",
      "Downloaded Page 17 Succes\n",
      "Downloaded Page 18 Succes\n",
      "Downloaded Page 19 Succes\n",
      "Downloaded Page 20 Succes\n",
      "Downloaded Page 21 Succes\n",
      "Downloaded Page 22 Succes\n",
      "Downloaded Page 23 Succes\n",
      "Downloaded Page 24 Succes\n",
      "Downloaded Page 25 Succes\n",
      "Downloaded Page 26 Succes\n",
      "Downloaded Page 27 Succes\n",
      "Downloaded Page 28 Succes\n",
      "Downloaded Page 29 Succes\n",
      "Downloaded Page 30 Succes\n",
      "Downloaded Page 31 Succes\n",
      "Downloaded Page 32 Succes\n",
      "Downloaded Page 33 Succes\n",
      "Downloaded Page 34 Succes\n",
      "Downloaded Page 35 Succes\n",
      "Downloaded Page 36 Succes\n",
      "Downloaded Page 37 Succes\n",
      "Downloaded Page 38 Succes\n",
      "Downloaded Page 39 Succes\n",
      "Downloaded Page 40 Succes\n",
      "Downloaded Page 41 Succes\n",
      "Downloaded Page 42 Succes\n",
      "Downloaded Page 43 Succes\n",
      "Downloaded Page 44 Succes\n",
      "Downloaded Page 45 Succes\n",
      "Downloaded Page 46 Succes\n",
      "Downloaded Page 47 Succes\n",
      "Downloaded Page 48 Succes\n",
      "Downloaded Page 49 Succes\n",
      "Downloaded Page 50 Succes\n",
      "Downloaded Page 51 Succes\n",
      "Downloaded Page 52 Succes\n",
      "Downloaded Page 53 Succes\n",
      "Downloaded Page 54 Succes\n",
      "Downloaded Page 55 Succes\n",
      "Downloaded Page 56 Succes\n",
      "Downloaded Page 57 Succes\n",
      "Downloaded Page 58 Succes\n",
      "Downloaded Page 59 Succes\n"
     ]
    }
   ],
   "source": [
    "for i in range(1,60):\n",
    "   a = requests.get(f\"http://quotes.toscrape.com/page/{i}/\")\n",
    "   with open(f\"htmls_quotes/page{i}.html\",\"w\",encoding=\"utf-8\") as f:\n",
    "       f.write(a.text)\n",
    "       print(f\"Downloaded Page {i} Succes\")"
   ]
  },
  {
   "cell_type": "code",
   "execution_count": null,
   "id": "8dabdbce-0f7f-4aab-bf09-ed640848c906",
   "metadata": {},
   "outputs": [],
   "source": []
  }
 ],
 "metadata": {
  "kernelspec": {
   "display_name": "Python [conda env:base] *",
   "language": "python",
   "name": "conda-base-py"
  },
  "language_info": {
   "codemirror_mode": {
    "name": "ipython",
    "version": 3
   },
   "file_extension": ".py",
   "mimetype": "text/x-python",
   "name": "python",
   "nbconvert_exporter": "python",
   "pygments_lexer": "ipython3",
   "version": "3.12.7"
  }
 },
 "nbformat": 4,
 "nbformat_minor": 5
}
