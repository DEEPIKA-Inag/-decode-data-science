{
 "cells": [
  {
   "cell_type": "code",
   "execution_count": 1,
   "id": "f171c40a-9d84-42a2-a30e-d9a4dfe5acad",
   "metadata": {},
   "outputs": [],
   "source": [
    "import numpy as np"
   ]
  },
  {
   "cell_type": "code",
   "execution_count": 15,
   "id": "f75b20cf-f241-4218-8447-42440b30c161",
   "metadata": {},
   "outputs": [],
   "source": [
    "arr_2 = np.array([[1,2,3],[4,5,6],[7,8,9]])"
   ]
  },
  {
   "cell_type": "code",
   "execution_count": 23,
   "id": "9f3977a2-13a3-4700-b841-fc11b326684a",
   "metadata": {},
   "outputs": [
    {
     "data": {
      "text/plain": [
       "array([[1, 2, 3],\n",
       "       [4, 5, 6],\n",
       "       [7, 8, 9]])"
      ]
     },
     "execution_count": 23,
     "metadata": {},
     "output_type": "execute_result"
    }
   ],
   "source": [
    "arr_2"
   ]
  },
  {
   "cell_type": "raw",
   "id": "440471c7-732f-4adc-b727-407dc3a09db8",
   "metadata": {},
   "source": []
  },
  {
   "cell_type": "code",
   "execution_count": 25,
   "id": "36d5af74-f674-47b5-bb69-500466be11d7",
   "metadata": {},
   "outputs": [
    {
     "data": {
      "text/plain": [
       "array([1, 2, 3])"
      ]
     },
     "execution_count": 25,
     "metadata": {},
     "output_type": "execute_result"
    }
   ],
   "source": [
    "arr_2[0]"
   ]
  },
  {
   "cell_type": "code",
   "execution_count": 33,
   "id": "b2f9fc16-5a8d-41f7-8acf-b49c7ee115ea",
   "metadata": {},
   "outputs": [
    {
     "data": {
      "text/plain": [
       "array([ 6, 15, 24])"
      ]
     },
     "execution_count": 33,
     "metadata": {},
     "output_type": "execute_result"
    }
   ],
   "source": [
    "np.sum(arr_2 ,axis=1)# axis 1 is the refers to the row"
   ]
  },
  {
   "cell_type": "code",
   "execution_count": 39,
   "id": "1b72541e-06d2-4c98-9558-541c67d23660",
   "metadata": {},
   "outputs": [
    {
     "data": {
      "text/plain": [
       "array([12, 15, 18])"
      ]
     },
     "execution_count": 39,
     "metadata": {},
     "output_type": "execute_result"
    }
   ],
   "source": [
    "np.sum(arr_2 , axis=0) # axis 0 is refers to the coloums"
   ]
  },
  {
   "cell_type": "code",
   "execution_count": 41,
   "id": "a492f17f-0de8-46c7-b69e-aaea7c1b3bc9",
   "metadata": {},
   "outputs": [
    {
     "data": {
      "text/plain": [
       "2"
      ]
     },
     "execution_count": 41,
     "metadata": {},
     "output_type": "execute_result"
    }
   ],
   "source": [
    "# indexing in multi-D array\n",
    "arr_2[0][1]"
   ]
  },
  {
   "cell_type": "code",
   "execution_count": 55,
   "id": "c33b7058-2338-4f9b-b3be-3ccd4ae7e02b",
   "metadata": {},
   "outputs": [
    {
     "data": {
      "text/plain": [
       "array([[2, 3],\n",
       "       [5, 6]])"
      ]
     },
     "execution_count": 55,
     "metadata": {},
     "output_type": "execute_result"
    }
   ],
   "source": [
    "arr[0:2 , 1:3] # indexing row and col."
   ]
  },
  {
   "cell_type": "code",
   "execution_count": 57,
   "id": "bffd824a-c0d0-4c18-9b77-cecc7ffd2ca3",
   "metadata": {},
   "outputs": [
    {
     "data": {
      "text/plain": [
       "array([[4, 5],\n",
       "       [7, 8]])"
      ]
     },
     "execution_count": 57,
     "metadata": {},
     "output_type": "execute_result"
    }
   ],
   "source": [
    "arr_2[1:3 , 0:2]"
   ]
  },
  {
   "cell_type": "code",
   "execution_count": 73,
   "id": "e8070369-57cf-4bf8-a2e3-4bb455e47640",
   "metadata": {},
   "outputs": [],
   "source": [
    "# creating 3-D array\n",
    "arr_3 = np.array([[[1,2,3],[4,5,6]],[[8,9,10],[9,4,5]]])"
   ]
  },
  {
   "cell_type": "code",
   "execution_count": 75,
   "id": "2c113e40-6643-44d9-a7e7-5696ed893690",
   "metadata": {},
   "outputs": [
    {
     "data": {
      "text/plain": [
       "array([[[ 1,  2,  3],\n",
       "        [ 4,  5,  6]],\n",
       "\n",
       "       [[ 8,  9, 10],\n",
       "        [ 9,  4,  5]]])"
      ]
     },
     "execution_count": 75,
     "metadata": {},
     "output_type": "execute_result"
    }
   ],
   "source": [
    "arr_3"
   ]
  },
  {
   "cell_type": "code",
   "execution_count": 79,
   "id": "917a7f85-597c-4fda-9f21-0567d511679e",
   "metadata": {},
   "outputs": [
    {
     "data": {
      "text/plain": [
       "(2, 2, 3)"
      ]
     },
     "execution_count": 79,
     "metadata": {},
     "output_type": "execute_result"
    }
   ],
   "source": [
    "arr_3.shape #output is (depth(sheets of data) , rows, columns)"
   ]
  },
  {
   "cell_type": "code",
   "execution_count": 81,
   "id": "c7480332-0ddc-407d-97a1-95aa2b15ffa2",
   "metadata": {},
   "outputs": [
    {
     "data": {
      "text/plain": [
       "4"
      ]
     },
     "execution_count": 81,
     "metadata": {},
     "output_type": "execute_result"
    }
   ],
   "source": [
    "arr_3[1,1,1]"
   ]
  },
  {
   "cell_type": "code",
   "execution_count": 85,
   "id": "62bfe06b-adbe-4fbf-b5cc-bb0ee14d7bc4",
   "metadata": {},
   "outputs": [
    {
     "data": {
      "text/plain": [
       "array([[ 1,  2,  3],\n",
       "       [ 8,  9, 10]])"
      ]
     },
     "execution_count": 85,
     "metadata": {},
     "output_type": "execute_result"
    }
   ],
   "source": [
    "arr_3[: ,0,:] # every sheet of data + 0th row + every column"
   ]
  },
  {
   "cell_type": "code",
   "execution_count": 88,
   "id": "04c62ce8-f260-4a27-af9d-1c154966e585",
   "metadata": {},
   "outputs": [],
   "source": [
    "# changinf data along axis\n",
    "# replace all element in column 1 with 0\n",
    "arr_3[:,1,:] =0\n",
    "\n"
   ]
  },
  {
   "cell_type": "code",
   "execution_count": 90,
   "id": "0f5207ca-7939-482c-9694-98286dfd75eb",
   "metadata": {},
   "outputs": [
    {
     "data": {
      "text/plain": [
       "array([[[ 1,  2,  3],\n",
       "        [ 0,  0,  0]],\n",
       "\n",
       "       [[ 8,  9, 10],\n",
       "        [ 0,  0,  0]]])"
      ]
     },
     "execution_count": 90,
     "metadata": {},
     "output_type": "execute_result"
    }
   ],
   "source": [
    "arr_3"
   ]
  },
  {
   "cell_type": "code",
   "execution_count": null,
   "id": "ddf76963-0514-449f-8d99-ad325ed1a7dd",
   "metadata": {},
   "outputs": [],
   "source": []
  }
 ],
 "metadata": {
  "kernelspec": {
   "display_name": "Python [conda env:base] *",
   "language": "python",
   "name": "conda-base-py"
  },
  "language_info": {
   "codemirror_mode": {
    "name": "ipython",
    "version": 3
   },
   "file_extension": ".py",
   "mimetype": "text/x-python",
   "name": "python",
   "nbconvert_exporter": "python",
   "pygments_lexer": "ipython3",
   "version": "3.12.7"
  }
 },
 "nbformat": 4,
 "nbformat_minor": 5
}
