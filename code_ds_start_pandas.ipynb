{
 "cells": [
  {
   "cell_type": "code",
   "execution_count": 55,
   "id": "1fc69741-29d7-446a-8911-bb32b63dc613",
   "metadata": {},
   "outputs": [],
   "source": [
    "import pandas as pd #import pandas"
   ]
  },
  {
   "cell_type": "code",
   "execution_count": 57,
   "id": "5fcaf651-8f47-4ca6-b62c-5c8712010fd5",
   "metadata": {},
   "outputs": [],
   "source": [
    "r = pd.Series([99,77,88,411,56,94]) # create series"
   ]
  },
  {
   "cell_type": "code",
   "execution_count": 59,
   "id": "18d17215-16a6-4eb9-bd92-d8166bbaeae6",
   "metadata": {},
   "outputs": [
    {
     "data": {
      "text/plain": [
       "pandas.core.series.Series"
      ]
     },
     "execution_count": 59,
     "metadata": {},
     "output_type": "execute_result"
    }
   ],
   "source": [
    "type(r)"
   ]
  },
  {
   "cell_type": "code",
   "execution_count": 61,
   "id": "081b5182-2265-42db-a8a4-a24e84f60a88",
   "metadata": {},
   "outputs": [
    {
     "data": {
      "text/plain": [
       "0     99\n",
       "1     77\n",
       "2     88\n",
       "3    411\n",
       "4     56\n",
       "5     94\n",
       "dtype: int64"
      ]
     },
     "execution_count": 61,
     "metadata": {},
     "output_type": "execute_result"
    }
   ],
   "source": [
    "r"
   ]
  },
  {
   "cell_type": "code",
   "execution_count": 63,
   "id": "16c16721-9791-42f5-97d3-27191716fafb",
   "metadata": {},
   "outputs": [],
   "source": [
    "s2 = pd.Series([99,33,44,55,77], index= [\"deepika\",\"mk\",\"www\",\"qqq\",\"TT\"])"
   ]
  },
  {
   "cell_type": "code",
   "execution_count": 65,
   "id": "3ab111e1-cdbb-4045-82b9-2f6a307590b8",
   "metadata": {},
   "outputs": [
    {
     "data": {
      "text/plain": [
       "deepika    99\n",
       "mk         33\n",
       "www        44\n",
       "qqq        55\n",
       "TT         77\n",
       "dtype: int64"
      ]
     },
     "execution_count": 65,
     "metadata": {},
     "output_type": "execute_result"
    }
   ],
   "source": [
    "s2"
   ]
  },
  {
   "cell_type": "code",
   "execution_count": 67,
   "id": "05d4b069-930b-4c46-b9dc-ef0c686fd09f",
   "metadata": {},
   "outputs": [
    {
     "data": {
      "text/plain": [
       "99"
      ]
     },
     "execution_count": 67,
     "metadata": {},
     "output_type": "execute_result"
    }
   ],
   "source": [
    "s2[\"deepika\"] #find the element "
   ]
  },
  {
   "cell_type": "code",
   "execution_count": 69,
   "id": "130621ea-1b26-4b6c-a97a-4fd8b0217057",
   "metadata": {},
   "outputs": [],
   "source": [
    "s = pd.Series([1,2,3,4])"
   ]
  },
  {
   "cell_type": "code",
   "execution_count": 71,
   "id": "21811b49-b9f6-465f-9e37-0fe427f4fc7b",
   "metadata": {},
   "outputs": [
    {
     "data": {
      "text/plain": [
       "0    1\n",
       "1    2\n",
       "2    3\n",
       "3    4\n",
       "dtype: int64"
      ]
     },
     "execution_count": 71,
     "metadata": {},
     "output_type": "execute_result"
    }
   ],
   "source": [
    "s"
   ]
  },
  {
   "cell_type": "code",
   "execution_count": 73,
   "id": "f0a005e0-62dd-405d-9682-fa654faa4aaa",
   "metadata": {},
   "outputs": [],
   "source": [
    "# create dataframe\n",
    "data = {\n",
    "       \"name\" : [\"deepika\" , \"priyansh\"] ,\n",
    "        \"age\" : [20 , 22],\n",
    "        \"city\" : [\"Saharnpur\" ,\"gourakhpur\"]\n",
    "}"
   ]
  },
  {
   "cell_type": "code",
   "execution_count": 75,
   "id": "547b6650-5c45-487d-8bea-6509ed540641",
   "metadata": {},
   "outputs": [],
   "source": [
    "df = pd.DataFrame(data)"
   ]
  },
  {
   "cell_type": "code",
   "execution_count": 77,
   "id": "42aec3ca-60f6-4d48-a8de-aaef38e2f860",
   "metadata": {},
   "outputs": [
    {
     "data": {
      "text/html": [
       "<div>\n",
       "<style scoped>\n",
       "    .dataframe tbody tr th:only-of-type {\n",
       "        vertical-align: middle;\n",
       "    }\n",
       "\n",
       "    .dataframe tbody tr th {\n",
       "        vertical-align: top;\n",
       "    }\n",
       "\n",
       "    .dataframe thead th {\n",
       "        text-align: right;\n",
       "    }\n",
       "</style>\n",
       "<table border=\"1\" class=\"dataframe\">\n",
       "  <thead>\n",
       "    <tr style=\"text-align: right;\">\n",
       "      <th></th>\n",
       "      <th>name</th>\n",
       "      <th>age</th>\n",
       "      <th>city</th>\n",
       "    </tr>\n",
       "  </thead>\n",
       "  <tbody>\n",
       "    <tr>\n",
       "      <th>0</th>\n",
       "      <td>deepika</td>\n",
       "      <td>20</td>\n",
       "      <td>Saharnpur</td>\n",
       "    </tr>\n",
       "    <tr>\n",
       "      <th>1</th>\n",
       "      <td>priyansh</td>\n",
       "      <td>22</td>\n",
       "      <td>gourakhpur</td>\n",
       "    </tr>\n",
       "  </tbody>\n",
       "</table>\n",
       "</div>"
      ],
      "text/plain": [
       "       name  age        city\n",
       "0   deepika   20   Saharnpur\n",
       "1  priyansh   22  gourakhpur"
      ]
     },
     "execution_count": 77,
     "metadata": {},
     "output_type": "execute_result"
    }
   ],
   "source": [
    "df"
   ]
  },
  {
   "cell_type": "code",
   "execution_count": 79,
   "id": "afcbe4c1-1323-4fef-b8a6-4235b83843b2",
   "metadata": {},
   "outputs": [
    {
     "data": {
      "text/plain": [
       "RangeIndex(start=0, stop=2, step=1)"
      ]
     },
     "execution_count": 79,
     "metadata": {},
     "output_type": "execute_result"
    }
   ],
   "source": [
    "df.index"
   ]
  },
  {
   "cell_type": "code",
   "execution_count": 81,
   "id": "aa093855-81a0-4e65-b0ca-0c5b8876d66f",
   "metadata": {},
   "outputs": [
    {
     "data": {
      "text/plain": [
       "Index(['name', 'age', 'city'], dtype='object')"
      ]
     },
     "execution_count": 81,
     "metadata": {},
     "output_type": "execute_result"
    }
   ],
   "source": [
    "df.columns"
   ]
  }
 ],
 "metadata": {
  "kernelspec": {
   "display_name": "Python [conda env:base] *",
   "language": "python",
   "name": "conda-base-py"
  },
  "language_info": {
   "codemirror_mode": {
    "name": "ipython",
    "version": 3
   },
   "file_extension": ".py",
   "mimetype": "text/x-python",
   "name": "python",
   "nbconvert_exporter": "python",
   "pygments_lexer": "ipython3",
   "version": "3.12.7"
  }
 },
 "nbformat": 4,
 "nbformat_minor": 5
}
