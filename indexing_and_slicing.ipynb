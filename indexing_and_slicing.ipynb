{
 "cells": [
  {
   "cell_type": "code",
   "execution_count": 7,
   "id": "585701ca-f305-4e08-b357-7cf998d03e94",
   "metadata": {},
   "outputs": [],
   "source": [
    "import numpy as np\n",
    "arr = np.array([[1,2,3,4],[5,6,7,8,],[9,10,11,12]])"
   ]
  },
  {
   "cell_type": "code",
   "execution_count": 9,
   "id": "8c8ea2cd-d7ed-4b06-92df-e0026a077fec",
   "metadata": {},
   "outputs": [
    {
     "data": {
      "text/plain": [
       "array([[ 1,  2,  3,  4],\n",
       "       [ 5,  6,  7,  8],\n",
       "       [ 9, 10, 11, 12]])"
      ]
     },
     "execution_count": 9,
     "metadata": {},
     "output_type": "execute_result"
    }
   ],
   "source": [
    "arr"
   ]
  },
  {
   "cell_type": "code",
   "execution_count": 15,
   "id": "aee10e72-189c-4273-8c0f-7f926b62b267",
   "metadata": {},
   "outputs": [],
   "source": [
    "flat_array = arr.flatten()"
   ]
  },
  {
   "cell_type": "code",
   "execution_count": 17,
   "id": "636c7a56-1c6e-47f3-99ec-54989e21e612",
   "metadata": {},
   "outputs": [
    {
     "data": {
      "text/plain": [
       "array([ 1,  2,  3,  4,  5,  6,  7,  8,  9, 10, 11, 12])"
      ]
     },
     "execution_count": 17,
     "metadata": {},
     "output_type": "execute_result"
    }
   ],
   "source": [
    "flat_array"
   ]
  },
  {
   "cell_type": "code",
   "execution_count": 19,
   "id": "a722fb4e-ddd3-4052-bb33-71a26af466dd",
   "metadata": {},
   "outputs": [
    {
     "data": {
      "text/plain": [
       "1"
      ]
     },
     "execution_count": 19,
     "metadata": {},
     "output_type": "execute_result"
    }
   ],
   "source": [
    "# indexing \n",
    "flat_array[0]"
   ]
  },
  {
   "cell_type": "code",
   "execution_count": 21,
   "id": "88aea0ab-9037-45ec-931d-28218ea4e4c7",
   "metadata": {},
   "outputs": [
    {
     "data": {
      "text/plain": [
       "array([ 4,  5,  6,  7,  8,  9, 10])"
      ]
     },
     "execution_count": 21,
     "metadata": {},
     "output_type": "execute_result"
    }
   ],
   "source": [
    "flat_array[3:10]"
   ]
  },
  {
   "cell_type": "code",
   "execution_count": 29,
   "id": "7483b922-b0c1-468b-b486-2a32cdb6bbf0",
   "metadata": {},
   "outputs": [
    {
     "data": {
      "text/plain": [
       "array([1, 2, 3, 4, 5, 6, 7, 8, 9])"
      ]
     },
     "execution_count": 29,
     "metadata": {},
     "output_type": "execute_result"
    }
   ],
   "source": [
    "flat_array[:9] #same as flat_array[0:9]"
   ]
  },
  {
   "cell_type": "code",
   "execution_count": 33,
   "id": "5f80b596-8d5d-42b4-981d-ecb777adbda4",
   "metadata": {},
   "outputs": [
    {
     "data": {
      "text/plain": [
       "array([ 5,  6,  7,  8,  9, 10, 11, 12])"
      ]
     },
     "execution_count": 33,
     "metadata": {},
     "output_type": "execute_result"
    }
   ],
   "source": [
    "flat_array[4:] #same as flat_array[4:12]"
   ]
  },
  {
   "cell_type": "code",
   "execution_count": 52,
   "id": "714a7d47-8dbe-4497-bdcf-f89c174cc1bf",
   "metadata": {},
   "outputs": [],
   "source": [
    "#prove that changes affect the original array\n",
    "new_array = flat_array[3:6]"
   ]
  },
  {
   "cell_type": "code",
   "execution_count": 54,
   "id": "15928a58-25ce-4fbf-90e2-0e92bde1d34a",
   "metadata": {},
   "outputs": [
    {
     "data": {
      "text/plain": [
       "array([666666,      5,      6])"
      ]
     },
     "execution_count": 54,
     "metadata": {},
     "output_type": "execute_result"
    }
   ],
   "source": [
    "new_array"
   ]
  },
  {
   "cell_type": "code",
   "execution_count": 56,
   "id": "dc3d3920-7cc9-4754-9337-2ca689b61afe",
   "metadata": {},
   "outputs": [],
   "source": [
    "new_array[0] = 666666"
   ]
  },
  {
   "cell_type": "code",
   "execution_count": 58,
   "id": "9169ab13-7e9f-4b7f-aa4a-85db48fcdf47",
   "metadata": {},
   "outputs": [
    {
     "data": {
      "text/plain": [
       "array([666666,      5,      6])"
      ]
     },
     "execution_count": 58,
     "metadata": {},
     "output_type": "execute_result"
    }
   ],
   "source": [
    "new_array"
   ]
  },
  {
   "cell_type": "code",
   "execution_count": 60,
   "id": "affe244c-a9d6-4cde-b6a1-5dc786a24b95",
   "metadata": {},
   "outputs": [
    {
     "data": {
      "text/plain": [
       "array([     1,      2,      3, 666666,      5,      6,      7,      8,\n",
       "            9,     10,     11,     12])"
      ]
     },
     "execution_count": 60,
     "metadata": {},
     "output_type": "execute_result"
    }
   ],
   "source": [
    "flat_array #Slicing returns a view not a copy"
   ]
  },
  {
   "cell_type": "code",
   "execution_count": 63,
   "id": "29996a7d-7a85-4a7e-891e-ebf08145e1b6",
   "metadata": {},
   "outputs": [],
   "source": [
    "# to create a copy of an array\n",
    "arr = np.array([2,3,4,5])\n"
   ]
  },
  {
   "cell_type": "code",
   "execution_count": 71,
   "id": "bf3b07d1-16eb-498a-8e2d-5ae5e8ba2e41",
   "metadata": {},
   "outputs": [],
   "source": [
    "flat = arr[0:2].copy()"
   ]
  },
  {
   "cell_type": "code",
   "execution_count": 73,
   "id": "54bd1afa-bb40-4b00-b8f1-c7b255aa0d14",
   "metadata": {},
   "outputs": [
    {
     "data": {
      "text/plain": [
       "array([2, 3])"
      ]
     },
     "execution_count": 73,
     "metadata": {},
     "output_type": "execute_result"
    }
   ],
   "source": [
    "flat"
   ]
  },
  {
   "cell_type": "code",
   "execution_count": 75,
   "id": "26bef2f8-0c53-45b4-b006-2c1aed88a19a",
   "metadata": {},
   "outputs": [],
   "source": [
    "flat[1] = 999"
   ]
  },
  {
   "cell_type": "code",
   "execution_count": 77,
   "id": "b67ecfef-4ef8-4977-821f-953d5136eb00",
   "metadata": {},
   "outputs": [
    {
     "data": {
      "text/plain": [
       "array([  2, 999])"
      ]
     },
     "execution_count": 77,
     "metadata": {},
     "output_type": "execute_result"
    }
   ],
   "source": [
    "flat"
   ]
  },
  {
   "cell_type": "code",
   "execution_count": 79,
   "id": "5ae0cfa1-b6e0-4f59-b16f-f432acbeef65",
   "metadata": {},
   "outputs": [
    {
     "data": {
      "text/plain": [
       "array([2, 3, 4, 5])"
      ]
     },
     "execution_count": 79,
     "metadata": {},
     "output_type": "execute_result"
    }
   ],
   "source": [
    "arr"
   ]
  },
  {
   "cell_type": "code",
   "execution_count": 99,
   "id": "0ca37bdf-8f77-4b0d-8f5e-52c7d8121929",
   "metadata": {},
   "outputs": [],
   "source": [
    "#fancy indexing\n",
    "arr = np.array([1,45,67,88,99,9999,12,88,56,0])"
   ]
  },
  {
   "cell_type": "code",
   "execution_count": 101,
   "id": "e7dcc4ed-d082-4279-8baa-ec889d25f352",
   "metadata": {},
   "outputs": [
    {
     "data": {
      "text/plain": [
       "array([   1,   45,   67,   88,   99, 9999,   12,   88,   56,    0])"
      ]
     },
     "execution_count": 101,
     "metadata": {},
     "output_type": "execute_result"
    }
   ],
   "source": [
    "arr"
   ]
  },
  {
   "cell_type": "code",
   "execution_count": 105,
   "id": "7bd69dcf-eb66-46c9-999e-ea84edbbba2c",
   "metadata": {},
   "outputs": [
    {
     "data": {
      "text/plain": [
       "array([45, 99, 12])"
      ]
     },
     "execution_count": 105,
     "metadata": {},
     "output_type": "execute_result"
    }
   ],
   "source": [
    "arr[[1,4,6]]"
   ]
  },
  {
   "cell_type": "code",
   "execution_count": 109,
   "id": "50c650e4-5d7f-43dd-b2da-19e74ce296ba",
   "metadata": {},
   "outputs": [
    {
     "data": {
      "text/plain": [
       "array([  45,   67,   88,   99, 9999,   12,   88,   56])"
      ]
     },
     "execution_count": 109,
     "metadata": {},
     "output_type": "execute_result"
    }
   ],
   "source": [
    "#boolean masking\n",
    "arr[arr>6]"
   ]
  },
  {
   "cell_type": "code",
   "execution_count": 129,
   "id": "c8e4b007-adb3-4dc4-a614-26d44edb20e3",
   "metadata": {},
   "outputs": [],
   "source": [
    "#Exercises for practice\n",
    "arr_1 = np.array([[1.3,2.8,3.9],[3.33,4.4,7.6],[9.1,6.4,4.6]])"
   ]
  },
  {
   "cell_type": "code",
   "execution_count": 131,
   "id": "e2a0dc1c-6432-4fd1-915b-79c74337e6c4",
   "metadata": {},
   "outputs": [
    {
     "data": {
      "text/plain": [
       "array([[1.3 , 2.8 , 3.9 ],\n",
       "       [3.33, 4.4 , 7.6 ],\n",
       "       [9.1 , 6.4 , 4.6 ]])"
      ]
     },
     "execution_count": 131,
     "metadata": {},
     "output_type": "execute_result"
    }
   ],
   "source": [
    "arr_1"
   ]
  },
  {
   "cell_type": "code",
   "execution_count": 135,
   "id": "5b419ba9-d1fc-4567-ae76-eaecd279349e",
   "metadata": {},
   "outputs": [
    {
     "data": {
      "text/plain": [
       "(3, 3)"
      ]
     },
     "execution_count": 135,
     "metadata": {},
     "output_type": "execute_result"
    }
   ],
   "source": [
    "arr_1.shape #check the shape"
   ]
  },
  {
   "cell_type": "code",
   "execution_count": 154,
   "id": "0a3c2d7d-3b94-4249-a5f1-1a50a2e9a9d0",
   "metadata": {},
   "outputs": [],
   "source": [
    " arr_1 = arr_1.astype(int) #convert into integer"
   ]
  },
  {
   "cell_type": "code",
   "execution_count": 175,
   "id": "993783a0-2bbd-43b0-b082-d64cc977ab34",
   "metadata": {},
   "outputs": [],
   "source": [
    "#find the position of  even element\n",
    "rows, cols = np.where(arr_1 %  2== 0)\n",
    "#use fancy indexing\n",
    "even_num  = arr_1[rows,cols]"
   ]
  },
  {
   "cell_type": "code",
   "execution_count": 177,
   "id": "8b5743be-8b56-4f70-b4cb-c28ff13902b7",
   "metadata": {},
   "outputs": [
    {
     "data": {
      "text/plain": [
       "array([2, 4, 6, 4])"
      ]
     },
     "execution_count": 177,
     "metadata": {},
     "output_type": "execute_result"
    }
   ],
   "source": [
    "even_num"
   ]
  },
  {
   "cell_type": "code",
   "execution_count": 179,
   "id": "007dfbf0-423c-490e-9bb6-39e7fa9cf69b",
   "metadata": {},
   "outputs": [],
   "source": [
    "reshaped = even_num.reshape(2,2)"
   ]
  },
  {
   "cell_type": "code",
   "execution_count": 181,
   "id": "6f3546da-657a-4c9c-ab7b-e3a8b84d7ade",
   "metadata": {},
   "outputs": [
    {
     "data": {
      "text/plain": [
       "array([[2, 4],\n",
       "       [6, 4]])"
      ]
     },
     "execution_count": 181,
     "metadata": {},
     "output_type": "execute_result"
    }
   ],
   "source": [
    "reshaped"
   ]
  },
  {
   "cell_type": "code",
   "execution_count": 185,
   "id": "73bfd936-a981-4db8-98f1-18ef80375551",
   "metadata": {},
   "outputs": [
    {
     "data": {
      "text/plain": [
       "array([7, 9, 6])"
      ]
     },
     "execution_count": 185,
     "metadata": {},
     "output_type": "execute_result"
    }
   ],
   "source": [
    "arr_1[arr_1>4]"
   ]
  },
  {
   "cell_type": "code",
   "execution_count": 187,
   "id": "a249e191-1f3e-4d7c-a6c1-384717491af4",
   "metadata": {},
   "outputs": [
    {
     "data": {
      "text/plain": [
       "array([2, 4, 6, 4])"
      ]
     },
     "execution_count": 187,
     "metadata": {},
     "output_type": "execute_result"
    }
   ],
   "source": [
    "# using boolean masking\n",
    "arr_1[arr_1 %2==0]"
   ]
  },
  {
   "cell_type": "code",
   "execution_count": null,
   "id": "2d6295ab-a815-415b-b83d-a8b556799d66",
   "metadata": {},
   "outputs": [],
   "source": []
  }
 ],
 "metadata": {
  "kernelspec": {
   "display_name": "Python [conda env:base] *",
   "language": "python",
   "name": "conda-base-py"
  },
  "language_info": {
   "codemirror_mode": {
    "name": "ipython",
    "version": 3
   },
   "file_extension": ".py",
   "mimetype": "text/x-python",
   "name": "python",
   "nbconvert_exporter": "python",
   "pygments_lexer": "ipython3",
   "version": "3.12.7"
  }
 },
 "nbformat": 4,
 "nbformat_minor": 5
}
